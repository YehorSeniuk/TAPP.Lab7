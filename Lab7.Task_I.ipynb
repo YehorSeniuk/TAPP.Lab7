{
 "cells": [
  {
   "cell_type": "markdown",
   "id": "a5b16987-fb0b-499c-b5c9-33baaf7122c7",
   "metadata": {},
   "source": [
    "# Task I. Presets"
   ]
  },
  {
   "cell_type": "code",
   "execution_count": 65,
   "id": "b0472ca1-85ff-4847-896e-bdaefc4e6410",
   "metadata": {},
   "outputs": [],
   "source": [
    "import random\n",
    "import spacy\n",
    "from spacy.training import Example\n",
    "import json\n",
    "from spacy.pipeline.textcat_multilabel import DEFAULT_MULTI_TEXTCAT_MODEL"
   ]
  },
  {
   "cell_type": "code",
   "execution_count": 109,
   "id": "8825dc48-cf8c-428b-bc17-4fbabbbb22e1",
   "metadata": {},
   "outputs": [
    {
     "name": "stderr",
     "output_type": "stream",
     "text": [
      "/home/yehor/.local/lib/python3.10/site-packages/spacy/training/iob_utils.py:149: UserWarning: [W030] Some entities could not be aligned in the text \"I will go to Rome by taxi.\" with entities \"[(13, 19, 'DST')]\". Use `spacy.training.offsets_to_biluo_tags(nlp.make_doc(text), entities)` to check the alignment. Misaligned entities ('-') will be ignored during training.\n",
      "  warnings.warn(\n"
     ]
    }
   ],
   "source": [
    "nlp = spacy.load(\"en_core_web_md\")\n",
    "doc = nlp(\"I will go to Rome by taxi.\")\n",
    "annotations = {\"entities\": [(15, 19, \"DST\")]}\n",
    "example_sent = Example.from_dict(doc, annotations)"
   ]
  },
  {
   "cell_type": "markdown",
   "id": "03b59a21-d5a0-476c-ab31-260307b21b2e",
   "metadata": {},
   "source": [
    "# Task I. Part I"
   ]
  },
  {
   "cell_type": "markdown",
   "id": "5f9488db-9782-4082-98d8-7b378707bfc8",
   "metadata": {},
   "source": [
    "## Problem statement"
   ]
  },
  {
   "cell_type": "markdown",
   "id": "b63c3dd8-6a11-4e08-ab24-11e91543c796",
   "metadata": {},
   "source": [
    "Створити кілька своїх прикладів у форматі json за тематикою варіанту\n",
    "(англійською або українською мовою) для розпізнавання нового типу\n",
    "сутностей (обрати самостійно).\n"
   ]
  },
  {
   "cell_type": "markdown",
   "id": "90b9cedb-99b0-4538-8c04-31fb1bdae386",
   "metadata": {},
   "source": [
    "## Solution "
   ]
  },
  {
   "cell_type": "code",
   "execution_count": 83,
   "id": "d538006f-54a6-47d0-95c3-5dfdd67146fd",
   "metadata": {},
   "outputs": [],
   "source": [
    "trainset_taxi_cities = [\n",
    "    (\"Let's go to Paris by taxi\", {\"entities\": [(9, 14, \"DST\")]}),\n",
    "    (\"Take me to London please\", {\"entities\": [(8, 14, \"DST\")]}),\n",
    "    (\"We need a cab to Rome\", {\"entities\": [(16, 20, \"DST\")]}),\n",
    "    (\"Can you drive me to Berlin?\", {\"entities\": [(19, 25, \"DST\")]}),\n",
    "    (\"I want to visit Amsterdam by taxi\", {\"entities\": [(16, 25, \"DST\")]}),\n",
    "    (\"I'm heading to Madrid with a taxi\", {\"entities\": [(15, 21, \"DST\")]}),\n",
    "    (\"Take a taxi to Tokyo\", {\"entities\": [(14, 19, \"DST\")]}),\n",
    "    (\"Let's get a cab to New York\", {\"entities\": [(18, 26, \"DST\")]}),\n",
    "    (\"I need to go to Sydney by taxi\", {\"entities\": [(15, 21, \"DST\")]}),\n",
    "    (\"We'll take a taxi to Moscow\", {\"entities\": [(21, 27, \"DST\")]})\n",
    "]\n"
   ]
  },
  {
   "cell_type": "markdown",
   "id": "157cde92-7457-41c7-a836-e3a3c1aecc0b",
   "metadata": {},
   "source": [
    "# Task I. Part II"
   ]
  },
  {
   "cell_type": "markdown",
   "id": "a54f4470-9eb4-4f93-8b31-1f853c035f49",
   "metadata": {},
   "source": [
    "## Problem statement"
   ]
  },
  {
   "cell_type": "markdown",
   "id": "d90da3ce-d4a3-44d5-91c8-b8d22b7cb975",
   "metadata": {},
   "source": [
    "Створити програму, що додає ці приклади до існуючої моделі spaCy, навчає модель."
   ]
  },
  {
   "cell_type": "markdown",
   "id": "482e8d8a-7107-4adc-b5df-2d04a7eeabba",
   "metadata": {},
   "source": [
    "## Solution"
   ]
  },
  {
   "cell_type": "code",
   "execution_count": 100,
   "id": "3b7a804c-4391-4d39-9ba1-5991835f579f",
   "metadata": {},
   "outputs": [],
   "source": [
    "epochs = 100\n",
    "other_pipes = [pipe for pipe in nlp.pipe_names if pipe != 'ner']\n",
    "with nlp.disable_pipes(*other_pipes):\n",
    "    optimizer = nlp.create_optimizer()\n",
    "    for i in range(epochs):\n",
    "        random.shuffle(trainset)\n",
    "\n",
    "        for example_text, annotations in trainset:\n",
    "            example = Example.from_dict(nlp.make_doc(example_text), annotations)\n",
    "            nlp.update([example], sgd=optimizer)\n",
    "\n",
    "ner = nlp.get_pipe(\"ner\")\n",
    "ner.to_disk(\"new_ner\")"
   ]
  },
  {
   "cell_type": "markdown",
   "id": "97abe41a-f160-46c8-985c-db824e1f24a1",
   "metadata": {},
   "source": [
    "# Task I. Part III"
   ]
  },
  {
   "cell_type": "markdown",
   "id": "09f64ed4-566c-40da-9a66-a33ab7738c0e",
   "metadata": {},
   "source": [
    "## Problem statement"
   ]
  },
  {
   "cell_type": "markdown",
   "id": "2c2fa4c3-be07-4230-a892-5ff3da1ebb6b",
   "metadata": {},
   "source": [
    "Продемонструвати роботу."
   ]
  },
  {
   "cell_type": "markdown",
   "id": "943bdeb1-edb2-4a08-9a37-67ddf35fd9a0",
   "metadata": {},
   "source": [
    "## Solution "
   ]
  },
  {
   "cell_type": "code",
   "execution_count": 107,
   "id": "496924d8-4754-443c-9a1f-fe4297387a4b",
   "metadata": {},
   "outputs": [
    {
     "data": {
      "text/plain": [
       "(Albuquerque, Monday)"
      ]
     },
     "execution_count": 107,
     "metadata": {},
     "output_type": "execute_result"
    }
   ],
   "source": [
    "doc = nlp(\"I would like to book a taxi to Albuquerque on Monday\")\n",
    "doc.ents"
   ]
  },
  {
   "cell_type": "code",
   "execution_count": 108,
   "id": "43e17236-6fdd-4397-8d8a-633dc57409eb",
   "metadata": {},
   "outputs": [
    {
     "data": {
      "text/plain": [
       "('DST', 'DATE')"
      ]
     },
     "execution_count": 108,
     "metadata": {},
     "output_type": "execute_result"
    }
   ],
   "source": [
    "doc.ents[0].label_, doc.ents[1].label_"
   ]
  },
  {
   "cell_type": "code",
   "execution_count": null,
   "id": "8c593ba3-6150-4b15-8a5a-d2e0da095b5a",
   "metadata": {},
   "outputs": [],
   "source": []
  },
  {
   "cell_type": "code",
   "execution_count": null,
   "id": "0838a664-c35f-4805-8825-7fabb60cf8a7",
   "metadata": {},
   "outputs": [],
   "source": []
  },
  {
   "cell_type": "code",
   "execution_count": null,
   "id": "f5a28f98-3e98-4882-b726-60ef678edc7f",
   "metadata": {},
   "outputs": [],
   "source": []
  }
 ],
 "metadata": {
  "kernelspec": {
   "display_name": "Python 3 (ipykernel)",
   "language": "python",
   "name": "python3"
  },
  "language_info": {
   "codemirror_mode": {
    "name": "ipython",
    "version": 3
   },
   "file_extension": ".py",
   "mimetype": "text/x-python",
   "name": "python",
   "nbconvert_exporter": "python",
   "pygments_lexer": "ipython3",
   "version": "3.10.12"
  }
 },
 "nbformat": 4,
 "nbformat_minor": 5
}
