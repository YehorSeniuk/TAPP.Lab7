{
 "cells": [
  {
   "cell_type": "markdown",
   "id": "68193e5e-0da6-4596-8e49-405e217bb6c9",
   "metadata": {},
   "source": [
    "# Task II. Presets "
   ]
  },
  {
   "cell_type": "code",
   "execution_count": 6,
   "id": "53ce002d-d4ce-48f8-bc03-d08b83135e9e",
   "metadata": {},
   "outputs": [],
   "source": [
    "import random\n",
    "import spacy\n",
    "from spacy.training import Example\n",
    "import json\n",
    "from spacy.pipeline.textcat_multilabel import DEFAULT_MULTI_TEXTCAT_MODEL"
   ]
  },
  {
   "cell_type": "code",
   "execution_count": 7,
   "id": "a796cb01-3138-4bd6-9122-169ac3ccfd37",
   "metadata": {},
   "outputs": [],
   "source": [
    "with open(\"taxiandcars.json\") as f:\n",
    "    data = json.load(f)"
   ]
  },
  {
   "cell_type": "code",
   "execution_count": 8,
   "id": "1003d117-67f7-4eee-9f0d-6826042779af",
   "metadata": {},
   "outputs": [],
   "source": [
    "nlp = spacy.load(\"en_core_web_md\")"
   ]
  },
  {
   "cell_type": "markdown",
   "id": "9ec7347e-d6ed-4915-8772-3fa26fd73ee2",
   "metadata": {},
   "source": [
    "# Task II. Part I"
   ]
  },
  {
   "cell_type": "markdown",
   "id": "c43d0254-1889-4510-a008-5a593297e342",
   "metadata": {},
   "source": [
    "## Problem statement"
   ]
  },
  {
   "cell_type": "markdown",
   "id": "112483bd-2729-428a-b4af-6edbe5c2cdaa",
   "metadata": {},
   "source": [
    "Застосувати компонент TextCategorizer для визначення намірів."
   ]
  },
  {
   "cell_type": "markdown",
   "id": "5d19506f-825b-4d0e-bda1-6dc6d70ad783",
   "metadata": {},
   "source": [
    "## Solution"
   ]
  },
  {
   "cell_type": "code",
   "execution_count": 9,
   "id": "ecdaca24-508a-4bc4-a4fe-ef5173ff8a5f",
   "metadata": {},
   "outputs": [],
   "source": [
    "config = {\n",
    "    \"threshold\": 0.5,\n",
    "    \"model\": DEFAULT_MULTI_TEXTCAT_MODEL,\n",
    "}\n",
    "\n",
    "textcat = nlp.add_pipe(\"textcat_multilabel\", config=config)"
   ]
  },
  {
   "cell_type": "code",
   "execution_count": 10,
   "id": "b7c2a703-ca23-4817-a76c-bf4baa207651",
   "metadata": {},
   "outputs": [
    {
     "data": {
      "text/plain": [
       "1"
      ]
     },
     "execution_count": 10,
     "metadata": {},
     "output_type": "execute_result"
    }
   ],
   "source": [
    "textcat.add_label(\"GetRide\")\n",
    "textcat.add_label(\"GetCarsAvailable\")\n",
    "textcat.add_label(\"ReverseCar\")"
   ]
  },
  {
   "cell_type": "markdown",
   "id": "4578d457-c644-411c-bedc-fe5b51378a87",
   "metadata": {},
   "source": [
    "# Task II. Part II"
   ]
  },
  {
   "cell_type": "markdown",
   "id": "98510db3-2d00-413b-9072-810a67764ff8",
   "metadata": {},
   "source": [
    "# Problem statement"
   ]
  },
  {
   "cell_type": "markdown",
   "id": "f89ae0ec-1f9c-4dc9-9fab-acc97ae25202",
   "metadata": {},
   "source": [
    "Дані для навчання за тематикою варіанту обрати самостійно або скористатись вказаним файлом (utterance містить висловлювання, intent - намір)."
   ]
  },
  {
   "cell_type": "markdown",
   "id": "e628e89f-ecdf-429a-9665-6d525c1f2d45",
   "metadata": {},
   "source": [
    "# Solution"
   ]
  },
  {
   "cell_type": "code",
   "execution_count": 11,
   "id": "f0d3d749-e0b1-4d39-ac3c-8ceb149fc169",
   "metadata": {},
   "outputs": [],
   "source": [
    "train_1 = []\n",
    "train_2 = []\n",
    "train_3 = []\n",
    "for dialogue in data:\n",
    "    for turn in dialogue[\"turns\"]:\n",
    "        text = turn[\"utterance\"]\n",
    "        intent = None\n",
    "        for action in turn[\"frames\"][0][\"actions\"]:\n",
    "            if action[\"act\"] == \"INFORM_INTENT\":\n",
    "                intent = action[\"canonical_values\"][0]\n",
    "                break\n",
    "        if intent == \"GetRide\":\n",
    "            train_1.append((text, {\"cats\": {intent: True}}))\n",
    "        if intent == \"GetCarsAvailable\":\n",
    "            train_2.append((text, {\"cats\": {intent: True}}))\n",
    "        if intent == \"ReserveCar\":\n",
    "            train_3.append((text, {\"cats\": {intent: True}}))"
   ]
  },
  {
   "cell_type": "code",
   "execution_count": 21,
   "id": "70f94795-8500-42a0-8df5-674fc12fb73d",
   "metadata": {},
   "outputs": [],
   "source": [
    "train_examples_1 = [Example.from_dict(nlp.make_doc(text), label) for text, label in train_1]\n",
    "train_examples_2 = [Example.from_dict(nlp.make_doc(text), label) for text, label in train_2]\n",
    "textcat.initialize(lambda: train_examples_1, nlp=nlp)\n",
    "textcat.initialize(lambda: train_examples_2, nlp=nlp)"
   ]
  },
  {
   "cell_type": "markdown",
   "id": "08880092-6d00-4049-8726-44da8e8b7bee",
   "metadata": {},
   "source": [
    "# Task II. Part III"
   ]
  },
  {
   "cell_type": "markdown",
   "id": "336564ae-d955-4f39-b4c5-1c86f105d252",
   "metadata": {},
   "source": [
    "## Problem statement"
   ]
  },
  {
   "cell_type": "markdown",
   "id": "dd67d66a-1852-4a3d-8526-b0629363094e",
   "metadata": {},
   "source": [
    "Навчити компонент."
   ]
  },
  {
   "cell_type": "markdown",
   "id": "8563ae70-11d9-43f8-a7d2-ae60e53be909",
   "metadata": {},
   "source": [
    "# Solution"
   ]
  },
  {
   "cell_type": "code",
   "execution_count": 22,
   "id": "47c5443b-ef9a-406b-b5e5-be2d1daf6ea7",
   "metadata": {},
   "outputs": [],
   "source": [
    "epochs = 100\n",
    "with nlp.select_pipes(enable=\"textcat\"):\n",
    "    optimizer = nlp.resume_training()\n",
    "    for i in range(epochs):\n",
    "        for example in train_examples_1:\n",
    "            nlp.update([example], sgd=optimizer)"
   ]
  },
  {
   "cell_type": "markdown",
   "id": "73c34444-0d60-4961-aeb8-d32a55afd266",
   "metadata": {},
   "source": [
    "# Task II. Part IV"
   ]
  },
  {
   "cell_type": "markdown",
   "id": "6c637c28-b88a-4d91-998b-70cc4b89184b",
   "metadata": {},
   "source": [
    "## Problem statement"
   ]
  },
  {
   "cell_type": "markdown",
   "id": "0f55caae-7821-4b18-886f-af06b7fdbad2",
   "metadata": {},
   "source": [
    "Продемонструвати роботу."
   ]
  },
  {
   "cell_type": "markdown",
   "id": "e963fe0c-8a18-4627-a1b1-d2f1f90e1ba3",
   "metadata": {},
   "source": [
    "## Solution"
   ]
  },
  {
   "cell_type": "code",
   "execution_count": 23,
   "id": "a1172d6a-a4e7-4bdb-a93c-bd2f9f591ac1",
   "metadata": {},
   "outputs": [],
   "source": [
    "text = \"I'll pick it up around 10:30 in the morning, keeping it until next Thursday\"\n",
    "doc = nlp(text)\n",
    "intent_scores = doc.cats\n",
    "predicted_intent = max(intent_scores, key=intent_scores.get)"
   ]
  },
  {
   "cell_type": "code",
   "execution_count": 24,
   "id": "66b8adb8-732f-4878-9562-ee0f2693b172",
   "metadata": {},
   "outputs": [
    {
     "name": "stdout",
     "output_type": "stream",
     "text": [
      "Text: I'll pick it up around 10:30 in the morning, keeping it until next Thursday\n",
      "Predicted Intent: GetCarsAvailable\n",
      "Intent Scores: {'GetRide': 0.6222334504127502, 'GetCarsAvailable': 0.8771541714668274, 'ReverseCar': 0.7279171943664551}\n"
     ]
    }
   ],
   "source": [
    "print(\"Text:\", text)\n",
    "print(\"Predicted Intent:\", predicted_intent)\n",
    "print(\"Intent Scores:\", intent_scores)"
   ]
  },
  {
   "cell_type": "code",
   "execution_count": 39,
   "id": "029f25bf-0ea2-4c98-b384-30086214e9b2",
   "metadata": {},
   "outputs": [],
   "source": [
    "text = \"Is a shared ride okay?\"\n",
    "doc = nlp(text)\n",
    "intent_scores = doc.cats\n",
    "predicted_intent = max(intent_scores, key=intent_scores.get)"
   ]
  },
  {
   "cell_type": "code",
   "execution_count": 40,
   "id": "fc10eac4-6faa-4daf-8e4e-e489ab2b4bb5",
   "metadata": {},
   "outputs": [
    {
     "name": "stdout",
     "output_type": "stream",
     "text": [
      "Text: Is a shared ride okay?\n",
      "Predicted Intent: ReverseCar\n",
      "Intent Scores: {'GetRide': 0.03920861706137657, 'GetCarsAvailable': 0.07123273611068726, 'ReverseCar': 0.26356327533721924}\n"
     ]
    }
   ],
   "source": [
    "print(\"Text:\", text)\n",
    "print(\"Predicted Intent:\", predicted_intent)\n",
    "print(\"Intent Scores:\", intent_scores)"
   ]
  },
  {
   "cell_type": "code",
   "execution_count": 27,
   "id": "a1272077-8e90-4f14-8ec5-960e48983882",
   "metadata": {},
   "outputs": [],
   "source": [
    "text = \"Reserve a car on Monday 5:00 am.\"\n",
    "doc = nlp(text)\n",
    "intent_scores = doc.cats\n",
    "predicted_intent = max(intent_scores, key=intent_scores.get)"
   ]
  },
  {
   "cell_type": "code",
   "execution_count": 28,
   "id": "e931b6ca-05bf-44af-92f7-150a20e6e55e",
   "metadata": {},
   "outputs": [
    {
     "name": "stdout",
     "output_type": "stream",
     "text": [
      "Text: Reserve a car on Monday 5:00 am.\n",
      "Predicted Intent: ReverseCar\n",
      "Intent Scores: {'GetRide': 0.0997655913233757, 'GetCarsAvailable': 0.07094454020261765, 'ReverseCar': 0.8834327459335327}\n"
     ]
    }
   ],
   "source": [
    "print(\"Text:\", text)\n",
    "print(\"Predicted Intent:\", predicted_intent)\n",
    "print(\"Intent Scores:\", intent_scores)"
   ]
  }
 ],
 "metadata": {
  "kernelspec": {
   "display_name": "Python 3 (ipykernel)",
   "language": "python",
   "name": "python3"
  },
  "language_info": {
   "codemirror_mode": {
    "name": "ipython",
    "version": 3
   },
   "file_extension": ".py",
   "mimetype": "text/x-python",
   "name": "python",
   "nbconvert_exporter": "python",
   "pygments_lexer": "ipython3",
   "version": "3.10.12"
  }
 },
 "nbformat": 4,
 "nbformat_minor": 5
}
